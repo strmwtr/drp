{
 "cells": [
  {
   "cell_type": "code",
   "execution_count": null,
   "metadata": {},
   "outputs": [],
   "source": [
    "# import sys\n",
    "# !{sys.executable} -m pip install xlrd"
   ]
  },
  {
   "cell_type": "code",
   "execution_count": null,
   "metadata": {},
   "outputs": [],
   "source": [
    "import pandas as pd\n",
    "import datetime as dt\n",
    "import numpy as np\n",
    "import matplotlib.pyplot as plt"
   ]
  },
  {
   "cell_type": "code",
   "execution_count": null,
   "metadata": {},
   "outputs": [],
   "source": [
    "today = dt.date.today()\n",
    "today_str = f'{today.year}_{today.month}_{today.day}'\n",
    "date_str = f'{today.month}/{today.day}/{today.year}'"
   ]
  },
  {
   "cell_type": "code",
   "execution_count": null,
   "metadata": {
    "scrolled": true
   },
   "outputs": [],
   "source": [
    "df = pd.read_excel('./excel/Development Application Tracking Spreadsheet.xlsm',sheet_name = 'Plans in Review')\n",
    "df['Project'] = df.apply(lambda row: row.Project.upper().replace('  ', ' '), axis=1)\n",
    "df['ApplicationType'] = df.apply(lambda row: row.Type.upper(), axis=1)\n",
    "df['Planner'] = df.apply(lambda row: row.Planner.upper(), axis=1)\n",
    "df['Engineer'] = df.apply(lambda row: row.Engineer.upper(), axis=1)\n",
    "df['ApplicationSubmission'] = df['Submission Date']\n",
    "df['CommentsDue'] = df['Comments Due']\n",
    "df['CommentTimeline'] = df.apply(lambda row: row.CommentsDue - row.ApplicationSubmission, axis = 1)\n",
    "df['TimeRemaining'] = df.apply(lambda row: row.CommentsDue.date() - today, axis = 1)\n",
    "df['TimeRemainingInt'] = df.apply(lambda row: row.TimeRemaining.days, axis = 1)\n",
    "df['PercentTimeRemaining'] = df.apply(lambda row: round(row.TimeRemaining / row.CommentTimeline,2), axis = 1)\n",
    "df['FullCommentPeriod'] = df.apply(lambda row: (row.CommentsDue - row.ApplicationSubmission).days, axis=1)\n",
    "df['CommentsDue'] = df.apply(lambda row: dt.date(row.CommentsDue.year, row.CommentsDue.month, row.CommentsDue.day), axis=1)\n",
    "\n",
    "conditions = [\n",
    "    (df.TimeRemainingInt < 0),\n",
    "    (df.TimeRemainingInt <= 7) & (df.TimeRemainingInt >= 0),\n",
    "    (df.TimeRemainingInt > 7) & (df.TimeRemainingInt <= 14),\n",
    "    (df.TimeRemainingInt > 14)\n",
    "]\n",
    "choices = ['Overdue', '0-7 Days','8-14 Days','> 14 Days']\n",
    "df['PieTimeline'] = np.select(conditions, choices, default='No')\n",
    "\n",
    "drop = ['Type', 'Submission Date', 'Comments Due', 'Comments Sent', 'Resubmission Due']\n",
    "exclude = ['AS-BUILTS', 'BOUNDARY LINE ADJUSTMENT']\n",
    "keep = [x for x in df.ApplicationType.unique().tolist() if x not in exclude]\n",
    "\n",
    "df = df.drop(drop, axis = 1)\n",
    "df = df.loc[df.ApplicationType.isin(keep)]\n",
    "\n",
    "table_df = pd.DataFrame(df[['Project', 'ApplicationType', 'Submission', 'CommentsDue', 'FullCommentPeriod', 'Planner', 'Engineer']], copy=True).sort_values('CommentsDue')\n",
    "\n",
    "col_labels = ['Project', 'Application Type', 'Submission', 'Comments Due', 'Comment Period', 'Planner', 'Engineer']\n",
    "cell_text = []\n",
    "t = []\n",
    "cell_colors = []\n",
    "for x in table_df.index.values.tolist():\n",
    "    t.append(table_df.loc[df.index == x].values.tolist())\n",
    "colors = ['#d7191c','#fdae61','#a6d96a','#1a9641']\n",
    "\n",
    "for x in t:\n",
    "    cell_text.append(x[0])\n",
    "    time_delta = (x[0][3] - today).days\n",
    "    if time_delta < 0:\n",
    "        cell_colors.append('#d7191c')\n",
    "    elif 0 <= time_delta <= 7:\n",
    "        cell_colors.append('#fdae61')\n",
    "    elif 7 < time_delta <= 14:\n",
    "        cell_colors.append('#a6d96a')\n",
    "    elif time_delta > 14:\n",
    "        cell_colors.append('#1a9641')"
   ]
  },
  {
   "cell_type": "code",
   "execution_count": null,
   "metadata": {
    "scrolled": true
   },
   "outputs": [],
   "source": [
    "#Table Data\n",
    "cell_colors = [[x,x,x,x,x,x,x] for x in cell_colors]\n",
    "\n",
    "#Pie Data\n",
    "classes = ['Overdue', '0-7 Days', '8-14 Days', '> 14 Days']\n",
    "sizes = [df.loc[df.PieTimeline == x].shape[0] for x in classes]\n",
    "labels = [f'Overdue\\n{sizes[0]} Projects', f'0-7 Days\\n{sizes[1]} Projects', f'8-14 Days\\n{sizes[2]} Projects', f'> 14 Days\\n{sizes[3]} Projects']\n",
    "colors = ['#d7191c','#fdae61','#a6d96a','#1a9641']\n",
    "explode = (0.05,0.05,0.05,0.05)\n",
    "\n",
    "def table_plot(ax, fontsize=12):\n",
    "    ax.table(cellText=cell_text, cellColours= cell_colors, cellLoc='left', colWidths=[0.65, 0.25, 0.15, 0.2, 0.18, 0.1, 0.1], rowLabels=None, rowColours=None, rowLoc='left', colLabels=col_labels, colColours=None, colLoc='left', loc='center', bbox=None, edges='closed')\n",
    "    ax.axis('off')\n",
    "    ax.set_title('Summary of Applications', fontsize=fontsize, pad = 10.0)\n",
    "\n",
    "def pie_plot(ax, fontsize=12):\n",
    "    ax.pie(sizes, colors = colors, labels=labels, autopct='%1.1f%%', startangle=90, pctdistance=0.85, explode = explode)\n",
    "    ax2.add_artist(plt.Circle((0,0),0.70,fc='white'))\n",
    "    ax.set_title('Comment Submission Due Date Timeline', fontsize=fontsize, pad = 10.0)\n",
    "    \n",
    "title = f'Timeline for Review of Pre-Construction Applications by NDS Staff - Compiled {date_str}'\n",
    "fig = plt.figure(num=1, figsize=[8.5, 11], dpi=600)\n",
    "fig.suptitle(title, fontsize=16)\n",
    "\n",
    "\n",
    "fig.tight_layout()\n",
    "\n",
    "ax1 = plt.subplot2grid((2, 1), (0, 0))\n",
    "ax2 = plt.subplot2grid((2, 1), (1, 0))\n",
    "\n",
    "table_plot(ax1)\n",
    "pie_plot(ax2)\n",
    "\n",
    "plt.savefig(f'./output/NDSReportPreConstructionApplications_{today_str}.pdf', dpi=600, facecolor='w', edgecolor='w',\n",
    "        orientation='portrait', papertype='letter', format=None,\n",
    "        transparent=False, bbox_inches='tight', pad_inches=0.5,\n",
    "        frameon=None, metadata=None)"
   ]
  },
  {
   "cell_type": "code",
   "execution_count": null,
   "metadata": {},
   "outputs": [],
   "source": []
  }
 ],
 "metadata": {
  "kernelspec": {
   "display_name": "Python 3",
   "language": "python",
   "name": "python3"
  },
  "language_info": {
   "codemirror_mode": {
    "name": "ipython",
    "version": 3
   },
   "file_extension": ".py",
   "mimetype": "text/x-python",
   "name": "python",
   "nbconvert_exporter": "python",
   "pygments_lexer": "ipython3",
   "version": "3.7.3"
  }
 },
 "nbformat": 4,
 "nbformat_minor": 2
}
